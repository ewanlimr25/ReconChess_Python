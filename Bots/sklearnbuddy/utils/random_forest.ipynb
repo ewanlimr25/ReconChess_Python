{
  "cells": [
    {
      "cell_type": "code",
      "metadata": {
        "jukit_cell_id": "NONE"
      },
      "source": [
        "import pandas as pd\n",
        "import numpy as np\n",
        "import matplotlib.pyplot as plt\n",
        "import sklearn.linear_model\n",
        "import os\n",
        "from plotnine import ggplot, geom_point, aes\n",
        "\n",
        "\n",
        "\n",
        "\n",
        "\n",
        "# Import game data\n",
        "games = pd.read_csv(\"Bots/sklearnbuddy/utils/first_50_games.csv\")\n",
        "\n",
        "games.head()\n",
        "\n",
        "# Create new variable indicating if the requested move was played by winner\n",
        "games[\"winner_move\"] = (games[\"white_won\"] == games[\"whites_turn\"])\n",
        "\n",
        "games.head()\n",
        "\n",
        "# Is this move a winner's move or a loser's move?\n",
        "# Can train separate models for white & black\n",
        "\n",
        "whites_moves = games[(games[\"whites_turn\"] == 1)]\n",
        "blacks_moves = games[(games[\"whites_turn\"] == 0)]\n",
        "\n",
        "games.names()"
      ],
      "outputs": [],
      "execution_count": null
    }
  ],
  "metadata": {
    "anaconda-cloud": {},
    "kernelspec": {
      "display_name": "python",
      "language": "python",
      "name": "python3"
    }
  },
  "nbformat": 4,
  "nbformat_minor": 4
}